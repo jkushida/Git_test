{
  "nbformat": 4,
  "nbformat_minor": 0,
  "metadata": {
    "colab": {
      "name": "離散コサイン変換.ipynb",
      "provenance": [],
      "authorship_tag": "ABX9TyPp9sxY+q1L2HJZibA6Qco6",
      "include_colab_link": true
    },
    "kernelspec": {
      "name": "python3",
      "display_name": "Python 3"
    }
  },
  "cells": [
    {
      "cell_type": "markdown",
      "metadata": {
        "id": "view-in-github",
        "colab_type": "text"
      },
      "source": [
        "<a href=\"https://colab.research.google.com/github/jkushida/Git_test/blob/master/%E9%9B%A2%E6%95%A3%E3%82%B3%E3%82%B5%E3%82%A4%E3%83%B3%E5%A4%89%E6%8F%9B.ipynb\" target=\"_parent\"><img src=\"https://colab.research.google.com/assets/colab-badge.svg\" alt=\"Open In Colab\"/></a>"
      ]
    },
    {
      "cell_type": "code",
      "metadata": {
        "id": "sWgnOTPG__se",
        "colab_type": "code",
        "colab": {}
      },
      "source": [
        "#coding: utf-8\n",
        "import numpy as np\n",
        "import matplotlib.pyplot as plt\n",
        "\n",
        "\"\"\"\n",
        "参考:\n",
        "[1]『画像処理とパターン認識入門』酒井幸市 著\n",
        "[2] scipy.fftpack.dct http://docs.scipy.org/doc/scipy-0.14.0/reference/generated/scipy.fftpack.dct.html\n",
        "\"\"\"\n",
        "\n",
        "class DCT:\n",
        "\tdef __init__(self,N):\n",
        "\t\tself.N = N\t# データ数．\n",
        "\t\t# 1次元，2次元離散コサイン変換の基底ベクトルをあらかじめ作っておく\n",
        "\t\tself.phi_1d = np.array([ self.phi(i) for i in range(self.N) ])\n",
        "\t\t\n",
        "\t\t# Nが大きいとメモリリークを起こすので注意\n",
        "\t\t# MNISTの28x28程度なら問題ない\n",
        "\t\tself.phi_2d = np.zeros((N,N,N,N))\n",
        "\t\tfor i in range(N):\n",
        "\t\t\tfor j in range(N):\n",
        "\t\t\t\tphi_i,phi_j = np.meshgrid(self.phi_1d[i],self.phi_1d[j])\n",
        "\t\t\t\tself.phi_2d[i,j] = phi_i*phi_j\n",
        "\n",
        "\tdef dct(self,data):\n",
        "\t\t\"\"\" 1次元離散コサイン変換を行う \"\"\"\n",
        "\t\treturn self.phi_1d.dot(data)\n",
        "\t\n",
        "\tdef idct(self,c):\n",
        "\t\t\"\"\" 1次元離散コサイン逆変換を行う \"\"\"\n",
        "\t\treturn np.sum( self.phi_1d.T * c ,axis=1)\n",
        "\t\n",
        "\tdef dct2(self,data):\n",
        "\t\t\"\"\" 2次元離散コサイン変換を行う \"\"\"\n",
        "\t\treturn np.sum(self.phi_2d.reshape(N*N,N*N)*data.reshape(N*N),axis=1).reshape(N,N)\n",
        "\t\n",
        "\tdef idct2(self,c):\n",
        "\t\t\"\"\" 2次元離散コサイン逆変換を行う \"\"\"\n",
        "\t\treturn np.sum((c.reshape(N,N,1)*self.phi_2d.reshape(N,N,N*N)).reshape(N*N,N*N),axis=0).reshape(N,N)\n",
        "\t\n",
        "\tdef phi(self,k):\n",
        "\t\t\"\"\" 離散コサイン変換(DCT)の基底関数 \"\"\"\n",
        "\t\t# DCT-II\n",
        "\t\tif k == 0:\n",
        "\t\t\treturn np.ones(self.N)/np.sqrt(self.N)\n",
        "\t\telse:\n",
        "\t\t\treturn np.sqrt(2.0/self.N)*np.cos((k*np.pi/(2*self.N))*(np.arange(self.N)*2+1))\n",
        "\n",
        "\n",
        "\n",
        "N = 10\t\t\t# データの次元は10x10とする\n",
        "dct = DCT(10)\t# 離散コサイン変換を行うクラスを作成\n",
        "# サンプル画像を作る\n",
        "img = np.array([\n",
        "  [0,0,0,0,0,0,0,0,0,0],\n",
        "  [0,0,1,1,1,1,1,1,0,0],\n",
        "  [0,1,0,0,0,0,0,0,1,0],\n",
        "  [0,1,0,0,0,0,0,0,1,0],\n",
        "  [0,0,0,0,0,0,1,1,0,0],\n",
        "  [0,0,0,0,1,1,0,0,0,0],\n",
        "  [0,0,0,1,0,0,0,0,0,0],\n",
        "  [0,0,1,0,0,0,0,0,0,0],\n",
        "  [0,1,1,1,1,1,1,1,1,0],\n",
        "  [0,0,0,0,0,0,0,0,0,0]\n",
        "])\n",
        "\n",
        "\n",
        "c = dct.dct2(img)\t# 2次元離散コサイン変換\n",
        "\n",
        "\n",
        "# 摂動パターン\n",
        "# 乱数で生成\n",
        "a = np.random.uniform(-0.3, 0.3 , (10, 10))\n",
        "\n",
        "# 摂動を加える\n",
        "c = c + a\n",
        "\n",
        "y = dct.idct2(c)\t# 2次元離散コサイン逆変換"
      ],
      "execution_count": 0,
      "outputs": []
    },
    {
      "cell_type": "code",
      "metadata": {
        "id": "V3sNHhRBARFF",
        "colab_type": "code",
        "colab": {
          "base_uri": "https://localhost:8080/",
          "height": 203
        },
        "outputId": "b912243d-2122-4365-ac8d-93988c1b6665"
      },
      "source": [
        "# 元の画像と復元したものを表示\n",
        "plt.subplot(1,2,1)\n",
        "plt.imshow(img,cmap=\"Greys\")\n",
        "plt.title(\"original\")\n",
        "plt.xticks([])\n",
        "plt.subplot(1,2,2)\n",
        "plt.imshow(y,cmap=\"Greys\")\n",
        "plt.title(\"restored\")\n",
        "plt.xticks([])\n",
        "plt.show()\n",
        " "
      ],
      "execution_count": 39,
      "outputs": [
        {
          "output_type": "display_data",
          "data": {
            "image/png": "[encoded data removed]",
            "text/plain": [
              "<Figure size 432x288 with 2 Axes>"
            ]
          },
          "metadata": {
            "tags": [],
            "needs_background": "light"
          }
        }
      ]
    },
    {
      "cell_type": "code",
      "metadata": {
        "id": "Fl_GSKnsRp9q",
        "colab_type": "code",
        "colab": {}
      },
      "source": [
        ""
      ],
      "execution_count": 0,
      "outputs": []
    }
  ]
}